{
 "cells": [
  {
   "cell_type": "code",
   "execution_count": null,
   "metadata": {},
   "outputs": [],
   "source": [
    "import urllib.request\n",
    "import gzip"
   ]
  },
  {
   "cell_type": "code",
   "execution_count": 1,
   "metadata": {},
   "outputs": [],
   "source": [
    "localfile = 'pageviews-20190331-120000'"
   ]
  },
  {
   "cell_type": "code",
   "execution_count": null,
   "metadata": {},
   "outputs": [],
   "source": [
    "url = 'https://dumps.wikimedia.org/other/pageviews/2019/2019-03/pageviews-20190331-120000.gz'\n",
    "\n",
    "r = urllib.request.urlopen(url)\n",
    "s_out = gzip.decompress(r.read())\n",
    "\n",
    "with open(localfile, 'wb') as f:  \n",
    "    f.write(s_out)"
   ]
  },
  {
   "cell_type": "code",
   "execution_count": 2,
   "metadata": {},
   "outputs": [],
   "source": [
    "from pyspark import SparkContext\n",
    "from pyspark.sql import SparkSession\n",
    "from pyspark.sql.types import StructType, StringType, StructField, IntegerType"
   ]
  },
  {
   "cell_type": "code",
   "execution_count": 3,
   "metadata": {},
   "outputs": [],
   "source": [
    "spark = SparkSession.builder.getOrCreate()"
   ]
  },
  {
   "cell_type": "code",
   "execution_count": 4,
   "metadata": {},
   "outputs": [],
   "source": [
    "schema = StructType([StructField('code', StringType(), True),\n",
    "                     StructField('title', StringType(), True),\n",
    "                     StructField('nbrequest', IntegerType(), True),\n",
    "                     StructField('total', IntegerType(), True)])\n",
    "\n",
    "df = spark.read.csv(localfile, sep=' ', header=None, schema=schema)\n"
   ]
  },
  {
   "cell_type": "code",
   "execution_count": 5,
   "metadata": {},
   "outputs": [],
   "source": [
    "df.createOrReplaceTempView(\"wikipedia\")"
   ]
  },
  {
   "cell_type": "code",
   "execution_count": 14,
   "metadata": {},
   "outputs": [
    {
     "name": "stdout",
     "output_type": "stream",
     "text": [
      "+------+--------------------+---------+-----+\n",
      "|  code|               title|nbrequest|total|\n",
      "+------+--------------------+---------+-----+\n",
      "|    en|           Main_Page|   643391|    0|\n",
      "|  en.m|           Main_Page|    94291|    0|\n",
      "|www.wd|                   -|    50556|    0|\n",
      "|    en|      Special:Search|    45840|    0|\n",
      "|    ru|Borderlands:_The_...|    33236|    0|\n",
      "|    de|Wikipedia:Hauptseite|    29461|    0|\n",
      "|    en|                   -|    26240|    0|\n",
      "|  en.m|      Special:Search|    24198|    0|\n",
      "|www.wd|   Special:BlankPage|    21642|    0|\n",
      "|  de.m|Wikipedia:Hauptseite|    21173|    0|\n",
      "+------+--------------------+---------+-----+\n",
      "only showing top 10 rows\n",
      "\n"
     ]
    }
   ],
   "source": [
    "# Afficher les 10 elements les plus vus\n",
    "df.sort('nbrequest', ascending=False).show(10)"
   ]
  },
  {
   "cell_type": "code",
   "execution_count": 12,
   "metadata": {},
   "outputs": [
    {
     "name": "stdout",
     "output_type": "stream",
     "text": [
      "+----+--------------------+---------+-----+\n",
      "|code|               title|nbrequest|total|\n",
      "+----+--------------------+---------+-----+\n",
      "|  fr|Wikipédia:Accueil...|    11597|    0|\n",
      "|fr.m|Wikipédia:Accueil...|     9733|    0|\n",
      "|fr.m|      Jacques_Chirac|     6057|    0|\n",
      "|  fr|   Spécial:Recherche|     4460|    0|\n",
      "|fr.m|   Bernadette_Chirac|     3576|    0|\n",
      "|fr.m|                   -|     3090|    0|\n",
      "|fr.m|       Claude_Chirac|     3065|    0|\n",
      "|fr.m|   Spécial:Recherche|     2409|    0|\n",
      "|fr.m| Plateau_des_Glières|     1761|    0|\n",
      "|fr.m|         Edgar_Morin|     1381|    0|\n",
      "+----+--------------------+---------+-----+\n",
      "only showing top 10 rows\n",
      "\n"
     ]
    }
   ],
   "source": [
    "# Afficher les 10 elements francais les plus vus\n",
    "spark.sql(\"SELECT * FROM WIKIPEDIA WHERE CODE RLIKE \\'^fr\\' ORDER BY NBREQUEST DESC\").show(10)"
   ]
  },
  {
   "cell_type": "code",
   "execution_count": 17,
   "metadata": {},
   "outputs": [
    {
     "name": "stdout",
     "output_type": "stream",
     "text": [
      "+----+--------------------+---------+-----+\n",
      "|code|               title|nbrequest|total|\n",
      "+----+--------------------+---------+-----+\n",
      "|fr.m|      Jacques_Chirac|     6057|    0|\n",
      "|fr.m|   Bernadette_Chirac|     3576|    0|\n",
      "|fr.m|                   -|     3090|    0|\n",
      "|fr.m|       Claude_Chirac|     3065|    0|\n",
      "|fr.m| Plateau_des_Glières|     1761|    0|\n",
      "|fr.m|         Edgar_Morin|     1381|    0|\n",
      "|fr.m|         Agnès_Varda|     1277|    0|\n",
      "|fr.m|Charles_Leclerc_(...|     1166|    0|\n",
      "|fr.m|         Heure_d'été|     1121|    0|\n",
      "|fr.m|     Bonnie_et_Clyde|     1092|    0|\n",
      "+----+--------------------+---------+-----+\n",
      "only showing top 10 rows\n",
      "\n"
     ]
    }
   ],
   "source": [
    "# Enlever les titres avec characteres speciaux (:)\n",
    "spark.sql(\"SELECT * FROM WIKIPEDIA WHERE CODE RLIKE \\'^fr\\' AND NOT TITLE LIKE \\'%:%\\' ORDER BY NBREQUEST DESC\").show(10)"
   ]
  },
  {
   "cell_type": "code",
   "execution_count": null,
   "metadata": {},
   "outputs": [],
   "source": []
  }
 ],
 "metadata": {
  "kernelspec": {
   "display_name": "Python 3",
   "language": "python",
   "name": "python3"
  },
  "language_info": {
   "codemirror_mode": {
    "name": "ipython",
    "version": 3
   },
   "file_extension": ".py",
   "mimetype": "text/x-python",
   "name": "python",
   "nbconvert_exporter": "python",
   "pygments_lexer": "ipython3",
   "version": "3.7.2"
  }
 },
 "nbformat": 4,
 "nbformat_minor": 2
}
