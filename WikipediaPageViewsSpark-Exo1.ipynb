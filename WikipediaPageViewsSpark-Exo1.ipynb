{
 "cells": [
  {
   "cell_type": "code",
   "execution_count": null,
   "metadata": {},
   "outputs": [],
   "source": [
    "import urllib.request\n",
    "import gzip"
   ]
  },
  {
   "cell_type": "code",
   "execution_count": null,
   "metadata": {},
   "outputs": [],
   "source": [
    "localfile = 'pageviews-20190331-120000'"
   ]
  },
  {
   "cell_type": "code",
   "execution_count": null,
   "metadata": {},
   "outputs": [],
   "source": [
    "url = 'https://dumps.wikimedia.org/other/pageviews/2019/2019-03/pageviews-20190331-120000.gz'\n",
    "\n",
    "r = urllib.request.urlopen(url)\n",
    "s_out = gzip.decompress(r.read())\n",
    "\n",
    "with open(localfile, 'wb') as f:  \n",
    "    f.write(s_out)"
   ]
  },
  {
   "cell_type": "code",
   "execution_count": null,
   "metadata": {},
   "outputs": [],
   "source": [
    "from pyspark import SparkContext\n",
    "from pyspark.sql import SparkSession\n",
    "from pyspark.sql.types import StructType, StringType, StructField, IntegerType"
   ]
  },
  {
   "cell_type": "code",
   "execution_count": null,
   "metadata": {},
   "outputs": [],
   "source": [
    "spark = SparkSession.builder.getOrCreate()"
   ]
  },
  {
   "cell_type": "code",
   "execution_count": null,
   "metadata": {},
   "outputs": [],
   "source": [
    "schema = StructType([StructField('code', StringType(), True),\n",
    "                     StructField('title', StringType(), True),\n",
    "                     StructField('nbrequest', IntegerType(), True),\n",
    "                     StructField('total', IntegerType(), True)])\n",
    "\n",
    "df = spark.read.csv(localfile, sep=' ', header=None, schema=schema)"
   ]
  },
  {
   "cell_type": "code",
   "execution_count": null,
   "metadata": {},
   "outputs": [],
   "source": [
    "# Afficher les 10 elements les plus vus\n",
    "df.groupBy('title').sum('nbrequest').orderBy('sum(nbrequest)', ascending = False).show(10)"
   ]
  },
  {
   "cell_type": "code",
   "execution_count": null,
   "metadata": {},
   "outputs": [],
   "source": [
    "df.createOrReplaceTempView(\"wikipedia\")"
   ]
  },
  {
   "cell_type": "code",
   "execution_count": null,
   "metadata": {},
   "outputs": [],
   "source": [
    "# Equivalent en SQL\n",
    "spark.sql(\"SELECT TITLE, SUM(NBREQUEST) FROM WIKIPEDIA GROUP BY TITLE ORDER BY SUM(NBREQUEST) DESC\").show(10)"
   ]
  },
  {
   "cell_type": "code",
   "execution_count": null,
   "metadata": {},
   "outputs": [],
   "source": [
    "# Afficher les 10 elements francais les plus vus\n",
    "df.filter(\"code RLIKE '^fr'\").groupBy('title').sum('nbrequest').orderBy('sum(nbrequest)', ascending = False).show(10)"
   ]
  },
  {
   "cell_type": "code",
   "execution_count": null,
   "metadata": {},
   "outputs": [],
   "source": [
    "spark.sql(\"SELECT TITLE, SUM(NBREQUEST) FROM WIKIPEDIA WHERE CODE RLIKE '^fr' GROUP BY TITLE ORDER BY SUM(NBREQUEST) DESC\").show(10)"
   ]
  },
  {
   "cell_type": "code",
   "execution_count": null,
   "metadata": {},
   "outputs": [],
   "source": [
    "# Enlever les titres avec characteres speciaux (:)\n",
    "spark.sql(\"SELECT TITLE, SUM(NBREQUEST) FROM WIKIPEDIA WHERE CODE RLIKE '^fr' AND NOT TITLE LIKE '%:%' GROUP BY TITLE ORDER BY SUM(NBREQUEST) DESC\").show(25)"
   ]
  },
  {
   "cell_type": "code",
   "execution_count": null,
   "metadata": {},
   "outputs": [],
   "source": []
  }
 ],
 "metadata": {
  "kernelspec": {
   "display_name": "Python 3",
   "language": "python",
   "name": "python3"
  },
  "language_info": {
   "codemirror_mode": {
    "name": "ipython",
    "version": 3
   },
   "file_extension": ".py",
   "mimetype": "text/x-python",
   "name": "python",
   "nbconvert_exporter": "python",
   "pygments_lexer": "ipython3",
   "version": "3.7.2"
  }
 },
 "nbformat": 4,
 "nbformat_minor": 2
}
